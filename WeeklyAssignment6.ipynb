{
 "cells": [
  {
   "cell_type": "markdown",
   "metadata": {},
   "source": [
    "# Weekly Assignment 6"
   ]
  },
  {
   "cell_type": "markdown",
   "metadata": {},
   "source": [
    "**Problem 1.** Program a function that given a causal graph (in matrix form) computes the\n",
    "basis set of independences to be checked to assert if that graph is a feasible causal\n",
    "structure."
   ]
  },
  {
   "cell_type": "code",
   "execution_count": 84,
   "metadata": {},
   "outputs": [],
   "source": [
    "def d_sep_statements(arr):\n",
    "    list = []\n",
    "    for i in range(len(arr)):\n",
    "        for j in range(len(arr)):\n",
    "            if not arr[i][j] and not arr[j][i] and i < j:\n",
    "                list.append((i,j))\n",
    "    basis = {}\n",
    "    for pair in list:\n",
    "        basis[pair] = []\n",
    "        for i in range(len(arr)):\n",
    "            if arr[i][pair[0]] or arr[i][pair[1]]:\n",
    "                basis[pair].append(i)\n",
    "    return basis"
   ]
  },
  {
   "cell_type": "code",
   "execution_count": 85,
   "metadata": {},
   "outputs": [],
   "source": [
    "example = [[0,1,0,0,0,0],\n",
    "             [0,0,1,1,0,0],\n",
    "             [0,0,0,0,1,0],\n",
    "             [0,0,0,0,1,0],\n",
    "             [0,0,0,0,0,0],\n",
    "             [0,0,0,0,1,0]]\n",
    "example2 = [[0,1,1,0],\n",
    "            [0,0,0,1],\n",
    "            [0,1,0,1],\n",
    "            [0,0,0,0]]"
   ]
  },
  {
   "cell_type": "code",
   "execution_count": 88,
   "metadata": {},
   "outputs": [
    {
     "name": "stdout",
     "output_type": "stream",
     "text": [
      "d-separation statements for the first example: {(0, 2): [1], (0, 3): [1], (0, 4): [2, 3, 5], (0, 5): [], (1, 4): [0, 2, 3, 5], (1, 5): [0], (2, 3): [1], (2, 5): [1], (3, 5): [1]}\n",
      "d-separation statements for the second example: {(0, 3): [1, 2]}\n"
     ]
    }
   ],
   "source": [
    "print(\"d-separation statements for the first example:\", d_sep_statements(example))\n",
    "print(\"d-separation statements for the second example:\", d_sep_statements(example2))"
   ]
  },
  {
   "cell_type": "markdown",
   "metadata": {},
   "source": [
    "The function returns the d-separation statements as a dictionary in which the keys are the pair of nodes and the values are the sets of variables which have to be conditioned."
   ]
  },
  {
   "cell_type": "markdown",
   "metadata": {},
   "source": [
    "**Problem 2.** ​ Program a function that given a ​ basis set and data for all the variables computes\n",
    "the independences given the data (using Pearson Correlation) and returns True if the\n",
    "independences are observed. The threshold of correlation to consider independent or\n",
    "dependent two variables is a parameter of the function.\n",
    "\n",
    "Since the problem asks us to use Pearson Correlation, we should use the following formula: **t = [r(n-2)^(1/2)] [(1-r^2)^(1/2)]** in order to assess the significance of the correlation scores."
   ]
  },
  {
   "cell_type": "code",
   "execution_count": null,
   "metadata": {},
   "outputs": [],
   "source": [
    "def independence(basis, data, threshold):\n",
    "    "
   ]
  }
 ],
 "metadata": {
  "kernelspec": {
   "display_name": "Python 3",
   "language": "python",
   "name": "python3"
  },
  "language_info": {
   "codemirror_mode": {
    "name": "ipython",
    "version": 3
   },
   "file_extension": ".py",
   "mimetype": "text/x-python",
   "name": "python",
   "nbconvert_exporter": "python",
   "pygments_lexer": "ipython3",
   "version": "3.6.9"
  }
 },
 "nbformat": 4,
 "nbformat_minor": 2
}
