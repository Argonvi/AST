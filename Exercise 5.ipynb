{
 "cells": [
  {
   "cell_type": "code",
   "execution_count": 1,
   "metadata": {},
   "outputs": [],
   "source": [
    "allRolls5Dice = lambda : [[a+1,b+1,c+1,d+1,e+1] for a in range (6)\\\n",
    "                                                for b in range (6)\\\n",
    "                                                for c in range (6)\\\n",
    "                                                for d in range (6)\\\n",
    "                                                for e in range (6)]\n",
    "\n",
    "allRollsNDices = lambda n: [[a+1]+smallerRoll for a in range(6) for smallerRoll in allRollsNDices(n-1)] if n > 1 else [[a+1] for a in range(6)]\n",
    "\n",
    "isStraight = lambda roll: True if len(set(roll)) == len(roll) else False\n",
    "\n",
    "isFull = lambda roll: True if roll.count(min(roll)) == 3 and roll.count(max(roll)) == 2 or \\\n",
    "                              roll.count(min(roll)) == 2 and roll.count(max(roll)) == 3 else False\n",
    "\n",
    "isPoker = lambda roll: True if roll.count(min(roll)) == 4 and roll.count(max(roll)) == 1 or \\\n",
    "                              roll.count(min(roll)) == 1 and roll.count(max(roll)) == 4 else False\n",
    "\n",
    "isGenerala = lambda roll: True if len(set(roll)) == 1 else False\n"
   ]
  },
  {
   "cell_type": "code",
   "execution_count": 2,
   "metadata": {},
   "outputs": [
    {
     "name": "stdout",
     "output_type": "stream",
     "text": [
      "0.09259259259259259\n"
     ]
    }
   ],
   "source": [
    "p_served_straigth = len([roll for roll in allRolls5Dice() if isStraight(roll)]) / float(len(allRolls5Dice()))\n",
    "print( p_served_straigth )"
   ]
  },
  {
   "cell_type": "code",
   "execution_count": 3,
   "metadata": {},
   "outputs": [
    {
     "name": "stdout",
     "output_type": "stream",
     "text": [
      "0.038580246913580245\n"
     ]
    }
   ],
   "source": [
    "p_served_full = len([roll for roll in allRolls5Dice() if isFull(roll)]) / float(len(allRolls5Dice()))\n",
    "print( len([roll for roll in allRolls5Dice() if isFull(roll)]) / float(len(allRolls5Dice())) )"
   ]
  },
  {
   "cell_type": "code",
   "execution_count": 4,
   "metadata": {},
   "outputs": [
    {
     "name": "stdout",
     "output_type": "stream",
     "text": [
      "0.019290123456790122\n"
     ]
    }
   ],
   "source": [
    "p_served_poker = len([roll for roll in allRolls5Dice() if isPoker(roll)]) / float(len(allRolls5Dice()))\n",
    "print( p_served_poker )"
   ]
  },
  {
   "cell_type": "code",
   "execution_count": 5,
   "metadata": {},
   "outputs": [
    {
     "name": "stdout",
     "output_type": "stream",
     "text": [
      "0.0007716049382716049\n"
     ]
    }
   ],
   "source": [
    "p_served_generala = len([roll for roll in allRolls5Dice() if isGenerala(roll)]) / float(len(allRolls5Dice()))\n",
    "print( p_served_generala )"
   ]
  },
  {
   "cell_type": "markdown",
   "metadata": {},
   "source": [
    "# Problem 5\n",
    "Compute the probabilities that you already computed by hand by counting the outcomes describing each roll result in the list of all possible hands."
   ]
  },
  {
   "cell_type": "code",
   "execution_count": 6,
   "metadata": {},
   "outputs": [
    {
     "name": "stdout",
     "output_type": "stream",
     "text": [
      "27900 9028650\n"
     ]
    }
   ],
   "source": [
    "notServedGeneralas = [roll for roll in allRolls5Dice() if not isGenerala(roll)]\n",
    "waysOfChooseFromFiveDice = 5 + 5*4 + 5*4*3 + 5*4*3*2 + 5*4*3*2*1\n",
    "\n",
    "notUsefulPickUpsCount = 0\n",
    "usefulPickUps = []\n",
    "for notServedGenerala in notServedGeneralas:\n",
    "    for diceType in set(notServedGenerala):\n",
    "        usefulPickUp = [dice for dice in notServedGenerala if dice == diceType]\n",
    "        usefulPickUps.append(usefulPickUp)\n",
    "        notUsefulPickUpsCount += waysOfChooseFromFiveDice - len(usefulPickUp)\n",
    "print (len (usefulPickUps), notUsefulPickUpsCount)"
   ]
  },
  {
   "cell_type": "code",
   "execution_count": null,
   "metadata": {},
   "outputs": [],
   "source": [
    "\n",
    "generalaCountAfterReroll = 0\n",
    "notGeneralaCountAfterReroll = 0\n",
    "notGeneralasARR = [] #Inicio una lista en la que se almacenarán las segundas tiradas que no son generala\n",
    "notUsefulPickUpsCount2 = 0 #Un contador para las formas de coger dados (en la segunda tirada) que no resultará en generala\n",
    "for usefulPickUp in usefulPickUps:\n",
    "    for reroll in allRollsNDices(5-len(usefulPickUp)):\n",
    "        if isGenerala(usefulPickUp+reroll): \n",
    "            generalaCountAfterReroll += 1\n",
    "        else:\n",
    "            notGeneralaCountAfterReroll += 1\n",
    "            notGeneralasARR.append(usefulPickUps+reroll) #Se guarda la tirada (pero el ordenador se congela)\n",
    "            \n",
    "#Si tuviera la lista, iniciaría otro bucle calculando los posibles usefulPickUps y haciendo reroll para cada uno de ellos\n",
    "\n",
    "\n",
    "print(notGeneralasARR)"
   ]
  },
  {
   "cell_type": "code",
   "execution_count": 10,
   "metadata": {},
   "outputs": [
    {
     "name": "stdout",
     "output_type": "stream",
     "text": [
      "8414136900\n"
     ]
    }
   ],
   "source": [
    "p_generala_after_two_rolls = p_served_generala + ( generalaCountAfterReroll / (generalaCountAfterReroll+notGeneralaCountAfterReroll + notUsefulPickUpsCount) )\n"
   ]
  }
 ],
 "metadata": {
  "kernelspec": {
   "display_name": "Python 3",
   "language": "python",
   "name": "python3"
  },
  "language_info": {
   "codemirror_mode": {
    "name": "ipython",
    "version": 3
   },
   "file_extension": ".py",
   "mimetype": "text/x-python",
   "name": "python",
   "nbconvert_exporter": "python",
   "pygments_lexer": "ipython3",
   "version": "3.6.9"
  }
 },
 "nbformat": 4,
 "nbformat_minor": 2
}
