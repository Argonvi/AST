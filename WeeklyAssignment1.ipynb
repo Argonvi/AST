{
 "cells": [
  {
   "cell_type": "markdown",
   "metadata": {},
   "source": [
    "#1. Write a function that list all the possible outcomes with five dice.\n",
    "Here I decided to take a simple approach, that is, nesting 5 loops, each one giving a number for the dice.\n",
    "In the first function, only the unique rolls are saved into the list, while in the second function every roll is saved."
   ]
  },
  {
   "cell_type": "code",
   "execution_count": 33,
   "metadata": {},
   "outputs": [],
   "source": [
    "#This function returns all possible unique outcomes, which means that 11116 and 11611 are the same outcome.\n",
    "def five_dice_uniq():\n",
    "    uniq_list = []\n",
    "    for n in range(1,7):\n",
    "        for u in range(1,7):\n",
    "            for m in range(1,7):\n",
    "                for b in range(1,7):\n",
    "                    for e in range(1,7):\n",
    "                        lista = [n,u,m,b,e]\n",
    "                        lista.sort()\n",
    "                        if lista not in uniq_list:\n",
    "                            uniq_list.append(lista)\n",
    "    return uniq_list\n",
    "\n",
    "#This other function returns all possible outcomes, taking into account order of dice.        \n",
    "def five_dice():\n",
    "    uniq_list = []\n",
    "    for n in range(1,7):\n",
    "        for u in range(1,7):\n",
    "            for m in range(1,7):\n",
    "                for b in range(1,7):\n",
    "                    for e in range(1,7):\n",
    "                        uniq_list.append([n,u,m,b,e])\n",
    "    return uniq_list"
   ]
  },
  {
   "cell_type": "markdown",
   "metadata": {},
   "source": [
    "#2. Write a function that takes a number of dices and return all the possible outcomes for that amount of dices\n",
    "This is a recursive function with basecase n=1 returning all the values in the dice and n=2 returning all combinations of these numbers. If n is greater than 2, it \"builds\" on the n=2 results, adding each one of the possible numbers."
   ]
  },
  {
   "cell_type": "code",
   "execution_count": 31,
   "metadata": {
    "scrolled": true
   },
   "outputs": [],
   "source": [
    "def dados(n):\n",
    "    if n==1:\n",
    "        return (1,2,3,4,5,6)\n",
    "    elif n==2:\n",
    "        sol=[]\n",
    "        for i in range (1,7):\n",
    "            for j in range (1,7):\n",
    "                sol.append((i,j))\n",
    "        return sol\n",
    "    else:\n",
    "        vect=dados(n-1)\n",
    "        sol=[]\n",
    "        for i in vect:\n",
    "            l=list(i)\n",
    "            for j in range(1,7):\n",
    "                l.append(j)\n",
    "                t=tuple(l)\n",
    "                sol.append(t)\n",
    "                l=list(i)\n",
    "        return sol"
   ]
  },
  {
   "cell_type": "markdown",
   "metadata": {},
   "source": [
    "#3. Write functions that return, given five dice, ​ True​ or ​ False​ if we have Straight, Full, Poker or Generala.\n",
    "This function takes each unique value of a roll and, depending on how many times each of these unique values appeared, assigns a tag (generala, straight, poker...). In some cases, like the pair, double pair, full and triple, it requires more than one piece of information to distinguish them."
   ]
  },
  {
   "cell_type": "code",
   "execution_count": 34,
   "metadata": {},
   "outputs": [],
   "source": [
    "def whatisit(n):\n",
    "    uniq = set(n)\n",
    "    freqs = []\n",
    "    for roll in uniq:\n",
    "        freqs.append(n.count(roll))\n",
    "    if max(freqs) == 1:\n",
    "        return \"Straight\"\n",
    "    elif max(freqs) == 5:\n",
    "        return \"Generala\"\n",
    "    elif max(freqs) == 4:\n",
    "        return \"Poker\"\n",
    "    elif max(freqs) == 3:\n",
    "        if len(freqs) == 2:\n",
    "            return \"Full\"\n",
    "        else:\n",
    "            return \"Triple\"\n",
    "    else:\n",
    "        if len(freqs) == 3:\n",
    "            return \"Double pair\"\n",
    "        else:\n",
    "            return \"Pair\""
   ]
  },
  {
   "cell_type": "markdown",
   "metadata": {},
   "source": [
    "#4. Compute the probabilities that you already computed by hand by counting the outcomes describing each roll result in the list of all possible hands ​ served ​ .\n",
    "This piece of code uses the previous function for all rolls with five dices and the \"translator\" from dice to served hand. After translating every possible roll, it computes the relative frequencies of every served hand, which are stored in 'dictionary'."
   ]
  },
  {
   "cell_type": "code",
   "execution_count": 17,
   "metadata": {
    "scrolled": true
   },
   "outputs": [
    {
     "name": "stdout",
     "output_type": "stream",
     "text": [
      "{'Generala': 0.023809523809523808, 'Straight': 0.023809523809523808, 'Full': 0.11904761904761904, 'Doble pareja': 0.23809523809523808, 'Triple': 0.23809523809523808, 'Poker': 0.11904761904761904, 'Pareja': 0.23809523809523808}\n"
     ]
    }
   ],
   "source": [
    "dictionary = {}\n",
    "total = 0\n",
    "for elem in five_dice():\n",
    "    dictionary.setdefault(whatisit(elem),0) \n",
    "    dictionary[whatisit(elem)] += 1\n",
    "    total += 1\n",
    "for key in dictionary.keys():\n",
    "    dictionary[key] = dictionary[key]/total\n",
    "print(dictionary)"
   ]
  },
  {
   "cell_type": "code",
   "execution_count": 35,
   "metadata": {},
   "outputs": [],
   "source": [
    "#5. Compute the probabilities that you already computed by hand by counting the outcomes describing each roll result in the list of all possible hands.\n",
    "lista = []\n",
    "for throw in five_dice_uniq():\n",
    "    lista.append(whatisit(throw))\n",
    "manos = []\n",
    "for elem in lista:\n",
    "    for elem2 in lista:\n",
    "        for elem3 in lista:\n",
    "            manos.append([elem, elem2, elem3])\n",
    "        \n",
    "print(manos)"
   ]
  },
  {
   "cell_type": "markdown",
   "metadata": {},
   "source": [
    "#6. Write a function that simulate a roll with n fair dices.\n",
    "This function takes advantage of 'randint' from the module 'random' to generate random numbers with uniform distribution from 1 to 6. This is implemented into a for loop that is repeated n times, being n the number of times, while also appending the resulting values to the list 'dice'."
   ]
  },
  {
   "cell_type": "code",
   "execution_count": 2,
   "metadata": {},
   "outputs": [
    {
     "name": "stdout",
     "output_type": "stream",
     "text": [
      "[5, 5, 2, 3, 1]\n"
     ]
    }
   ],
   "source": [
    "from random import randint\n",
    "def roll(n):\n",
    "    dados = []\n",
    "    for i in range(n):\n",
    "        dice.append(randint(1,6))\n",
    "    return dice"
   ]
  },
  {
   "cell_type": "markdown",
   "metadata": {},
   "source": [
    "#7. Write a function that plays automatically, always looking for a Generala with a greedy strategy (always keeping the most dices of the same kind and rolling the others) that returns ​ True​ if we get a Generala and a ​ False​ otherwise. Which kind of distribution follow this function results? Explain your reasoning within the delivered python notebook.\n",
    "\n",
    "This function works in the following fashion:\n",
    "It counts the number of actual throws. If it is less than 3, it makes a roll.\n",
    "The roll takes into account if the set of dices has already been rolled and some of the previous dice where equal. It completes the set of five dice by rolling those which were not kept."
   ]
  },
  {
   "cell_type": "code",
   "execution_count": 12,
   "metadata": {},
   "outputs": [
    {
     "data": {
      "image/png": "[encoded data removed]",
      "text/plain": [
       "<Figure size 432x288 with 1 Axes>"
      ]
     },
     "metadata": {},
     "output_type": "display_data"
    }
   ],
   "source": [
    "import matplotlib.pyplot as plt\n",
    "import numpy as np\n",
    "from random import randint\n",
    "def generala(dice = [], present_roll = 0):\n",
    "    if present_roll < 3:\n",
    "        tirada = present_roll + 1\n",
    "        for i in range(5-len(dice)):\n",
    "            dice.append(randint(1,6))\n",
    "        if len(set(dice)) == 1:\n",
    "            return True\n",
    "        max = 0\n",
    "        for num in set(dice):\n",
    "            if max < dice.count(num):\n",
    "                max = dice.count(num)\n",
    "                max_num = num\n",
    "        kept_dice = [int(i) for i in max*str(max_num)]\n",
    "        return generala(kept_dice,tirada)\n",
    "    else:\n",
    "        return False\n",
    "\n",
    "    #Plotting\n",
    "results = []\n",
    "for i in range(1000):\n",
    "    results.append(generala())\n",
    "freqs = [results.count(False), results.count(True)]\n",
    "langs = (\"False\", \"True\")\n",
    "y_pos = np.arange(len(langs))\n",
    "plt.bar(y_pos, freqs, align='center', alpha=0.5)\n",
    "plt.xticks(y_pos, langs)\n",
    "plt.ylabel(\"Frequency\")\n",
    "plt.xlabel(\"Generala\")\n",
    "\n",
    "plt.show()"
   ]
  },
  {
   "cell_type": "markdown",
   "metadata": {},
   "source": [
    "This function follows a binomial distribution. This is because there are two possible outcomes: getting a Generala or not getting it. Also, we have a probability of getting the generala and 1-(this probability) would be the unsuccessful case."
   ]
  },
  {
   "cell_type": "markdown",
   "metadata": {},
   "source": [
    "#8. Write a function that plays until it gets a Generala, count how many times it had to play to get it and return this number. Which kind of distribution follow this function results? Explain your reasoning within the delivered python notebook.\n",
    "\n",
    "This function works by using the previous function and registering the number of times it has to be called until generala is True."
   ]
  },
  {
   "cell_type": "code",
   "execution_count": 14,
   "metadata": {},
   "outputs": [
    {
     "data": {
      "image/png": "[encoded data removed]",
      "text/plain": [
       "<Figure size 432x288 with 1 Axes>"
      ]
     },
     "metadata": {},
     "output_type": "display_data"
    }
   ],
   "source": [
    "def generala_num(play = 0):\n",
    "    play += 1\n",
    "    if generala():\n",
    "        return play\n",
    "    else:\n",
    "        return generala_num(play)\n",
    "generala_num()\n",
    "\n",
    "    #Plotting\n",
    "results = []\n",
    "for num in range(5000):\n",
    "    results.append(generala_num())\n",
    "bins=30\n",
    "plt.hist(results, bins, histtype='bar', rwidth=0.8)\n",
    "plt.ylabel(\"Frequency\")\n",
    "plt.xlabel(\"Number of plays\")\n",
    "plt.show()\n"
   ]
  },
  {
   "cell_type": "markdown",
   "metadata": {},
   "source": [
    "This function follows a geometric distribution. The geometric distribution is the probability distribution of the number of Bernouilli trials needed to get one success. Each trial is independent of the others. There are only two possible outcomes for each trial. The probability of succes is the same for every trial. In this case the success is getting a generala."
   ]
  }
 ],
 "metadata": {
  "kernelspec": {
   "display_name": "Python 3",
   "language": "python",
   "name": "python3"
  },
  "language_info": {
   "codemirror_mode": {
    "name": "ipython",
    "version": 3
   },
   "file_extension": ".py",
   "mimetype": "text/x-python",
   "name": "python",
   "nbconvert_exporter": "python",
   "pygments_lexer": "ipython3",
   "version": "3.6.9"
  }
 },
 "nbformat": 4,
 "nbformat_minor": 2
}
