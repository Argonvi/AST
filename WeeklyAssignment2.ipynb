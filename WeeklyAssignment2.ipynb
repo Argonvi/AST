{
 "cells": [
  {
   "cell_type": "markdown",
   "metadata": {},
   "source": [
    "#Weekly Assignment 2"
   ]
  },
  {
   "cell_type": "code",
   "execution_count": 4,
   "metadata": {},
   "outputs": [],
   "source": [
    "#Import libraries\n",
    "import pandas as pd\n",
    "import matplotlib.pyplot as plt\n",
    "import math\n",
    "from random import uniform"
   ]
  },
  {
   "cell_type": "code",
   "execution_count": 5,
   "metadata": {
    "scrolled": true
   },
   "outputs": [],
   "source": [
    "#Read data\n",
    "data = pd.read_csv(\"diet_and_atp.tsv\", header=[0], sep=\"\\t\")"
   ]
  },
  {
   "cell_type": "code",
   "execution_count": 6,
   "metadata": {},
   "outputs": [],
   "source": [
    "iterations = 1000000\n",
    "p_stand = 0.5\n",
    "c_stand = 0.5 #Stablish starting points for each of the coefficients\n",
    "f_stand = 0.5\n",
    "all_my_standings = []\n",
    "\n",
    "for i in range(iterations):\n",
    "    p_step = uniform(-data[\"Protein\"].var()/2,data[\"Protein\"].var()/2)\n",
    "    c_step = uniform(-data[\"Carbohydrates\"].var()/2,data[\"Carbohydrates\"].var()/2) #The steps are balanced for each variable, so that they aren't too big or too small\n",
    "    f_step = uniform(-data[\"Fat\"].var()/2,data[\"Fat\"].var()/2)\n",
    "    p_candidate = p_stand + p_step\n",
    "    c_candidate = c_stand + c_step\n",
    "    f_candidate = f_stand + f_step\n",
    "    \n",
    "    error_stand = sum((p_stand*data[\"Protein\"] + c_stand*data[\"Carbohydrates\"] + f_stand*data[\"Fat\"] - data[\"ATP\"])**2)\n",
    "    error_move = sum((p_candidate*data[\"Protein\"] + c_candidate*data[\"Carbohydrates\"] + f_candidate*data[\"Fat\"] - data[\"ATP\"])**2)\n",
    "    if error_stand > error_move: #Move only if error decreases\n",
    "        p_stand = p_candidate\n",
    "        c_stand = c_candidate\n",
    "        f_stand = f_candidate\n",
    "    else:                        #Otherwise, move randomly, depeding on how big is the new error with respect to the previous one\n",
    "        random_number = uniform(0,1)\n",
    "        if random_number <= error_stand/error_move:\n",
    "            p_stand = p_candidate\n",
    "            c_stand = c_candidate\n",
    "            f_stand = f_candidate\n",
    "\n",
    "    all_my_standings.append((p_stand,c_stand,f_stand)) #Record the position for each variable"
   ]
  },
  {
   "cell_type": "code",
   "execution_count": 11,
   "metadata": {},
   "outputs": [],
   "source": [
    "proteins = [cosa[0] for cosa in all_my_standings]\n",
    "carbohydrates = [cosa[1] for cosa in all_my_standings] #Separate each coefficiente variables\n",
    "fats = [cosa[2] for cosa in all_my_standings]\n",
    "bins = 80"
   ]
  },
  {
   "cell_type": "code",
   "execution_count": 12,
   "metadata": {},
   "outputs": [
    {
     "name": "stdout",
     "output_type": "stream",
     "text": [
      "0.22074148584612766\n"
     ]
    },
    {
     "data": {
      "text/plain": [
       "Text(0, 0.5, 'frequency')"
      ]
     },
     "execution_count": 12,
     "metadata": {},
     "output_type": "execute_result"
    },
    {
     "data": {
      "image/png": "[encoded data removed]",
      "text/plain": [
       "<Figure size 432x288 with 1 Axes>"
      ]
     },
     "metadata": {},
     "output_type": "display_data"
    }
   ],
   "source": [
    "print(sum(fats)/len(fats))\n",
    "plt.hist(fats,bins)\n",
    "plt.xlabel(\"f coefficient value\")\n",
    "plt.ylabel(\"frequency\")"
   ]
  },
  {
   "cell_type": "code",
   "execution_count": 13,
   "metadata": {},
   "outputs": [
    {
     "name": "stdout",
     "output_type": "stream",
     "text": [
      "1.1939650016004373\n"
     ]
    },
    {
     "data": {
      "text/plain": [
       "Text(0, 0.5, 'frequency')"
      ]
     },
     "execution_count": 13,
     "metadata": {},
     "output_type": "execute_result"
    },
    {
     "data": {
      "image/png": "[encoded data removed]",
      "text/plain": [
       "<Figure size 432x288 with 1 Axes>"
      ]
     },
     "metadata": {},
     "output_type": "display_data"
    }
   ],
   "source": [
    "print(sum(proteins)/len(proteins))\n",
    "plt.hist(proteins,bins)\n",
    "plt.xlabel(\"p coefficient value\")\n",
    "plt.ylabel(\"frequency\")"
   ]
  },
  {
   "cell_type": "code",
   "execution_count": 14,
   "metadata": {},
   "outputs": [
    {
     "name": "stdout",
     "output_type": "stream",
     "text": [
      "0.8705452323043181\n"
     ]
    },
    {
     "data": {
      "text/plain": [
       "Text(0, 0.5, 'frequency')"
      ]
     },
     "execution_count": 14,
     "metadata": {},
     "output_type": "execute_result"
    },
    {
     "data": {
      "image/png": "[encoded data removed]",
      "text/plain": [
       "<Figure size 432x288 with 1 Axes>"
      ]
     },
     "metadata": {},
     "output_type": "display_data"
    }
   ],
   "source": [
    "print(sum(carbohydrates)/len(carbohydrates))\n",
    "plt.hist(carbohydrates,bins)\n",
    "plt.xlabel(\"c coefficient value\")\n",
    "plt.ylabel(\"frequency\")"
   ]
  },
  {
   "cell_type": "code",
   "execution_count": 15,
   "metadata": {},
   "outputs": [
    {
     "name": "stdout",
     "output_type": "stream",
     "text": [
      "95.11495278580279\n"
     ]
    }
   ],
   "source": [
    "p = sum(proteins)/len(proteins)\n",
    "c = sum(carbohydrates)/len(carbohydrates)\n",
    "f = sum(fats)/len(fats)\n",
    "error = sum((p*data[\"Protein\"]+c*data[\"Carbohydrates\"]+f*data[\"Fat\"] - data[\"ATP\"])**2)\n",
    "print(error)"
   ]
  },
  {
   "cell_type": "code",
   "execution_count": null,
   "metadata": {},
   "outputs": [],
   "source": []
  }
 ],
 "metadata": {
  "kernelspec": {
   "display_name": "Python 3",
   "language": "python",
   "name": "python3"
  },
  "language_info": {
   "codemirror_mode": {
    "name": "ipython",
    "version": 3
   },
   "file_extension": ".py",
   "mimetype": "text/x-python",
   "name": "python",
   "nbconvert_exporter": "python",
   "pygments_lexer": "ipython3",
   "version": "3.6.9"
  }
 },
 "nbformat": 4,
 "nbformat_minor": 2
}
