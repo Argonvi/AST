{
 "cells": [
  {
   "cell_type": "markdown",
   "metadata": {},
   "source": [
    "# Weekly Assignment 4"
   ]
  },
  {
   "cell_type": "code",
   "execution_count": 1,
   "metadata": {},
   "outputs": [],
   "source": [
    "import matplotlib.pyplot as plt\n",
    "import numpy as np\n",
    "from scipy.stats import norm\n",
    "import csv"
   ]
  },
  {
   "cell_type": "markdown",
   "metadata": {},
   "source": [
    "# Classification with Naive Bayes"
   ]
  },
  {
   "cell_type": "markdown",
   "metadata": {},
   "source": [
    "Loading data"
   ]
  },
  {
   "cell_type": "code",
   "execution_count": 2,
   "metadata": {},
   "outputs": [],
   "source": [
    "class airbnb( object ):\n",
    "    \n",
    "    def __init__(self, latitude, longitude, neighbourhood, price, availability, room_type, minimum_nights):\n",
    "        self.latitude=latitude\n",
    "        self.longitude=longitude\n",
    "        self.neighbourhood=neighbourhood\n",
    "        self.price=price\n",
    "        self.availability=availability\n",
    "        self.room_type=room_type\n",
    "        self.minimum_nights=minimum_nights\n",
    "    \n",
    "    def getAllFeatures(self): return {\"latitude\": self.latitude, \"longitud\": self.longitude, \"neighbourhood\":self.neighbourhood, \"price\": self.price, \"availability\": self.availability, \"room_type\": self.room_type, \"minimum_nights\": self.minimum_nights}\n",
    "    \n",
    "    def getFeaturesDict(self): return {\"latitude\": self.latitude, \"longitud\": self.longitude}\n",
    "    \n",
    "    def getNeighbour(self): return self.neighbourhood"
   ]
  },
  {
   "cell_type": "code",
   "execution_count": 3,
   "metadata": {},
   "outputs": [],
   "source": [
    "myairbnbs = []\n",
    "with open(\"listings.csv\") as data:\n",
    "    n = 1\n",
    "    data = csv.reader(data)\n",
    "    next(data)\n",
    "    for line in data:\n",
    "        apartment = airbnb(float(line[6]),float(line[7]),line[5],float(line[9]),int(line[-1]),line[8],int(line[10]))\n",
    "        myairbnbs.append(apartment)"
   ]
  },
  {
   "cell_type": "code",
   "execution_count": 4,
   "metadata": {},
   "outputs": [],
   "source": [
    "training_set = myairbnbs\n",
    "test_set = myairbnbs[:100]"
   ]
  },
  {
   "cell_type": "code",
   "execution_count": 5,
   "metadata": {},
   "outputs": [],
   "source": [
    "class NaiveBayesOfairnbns( object ):\n",
    " \n",
    "    def _distributionProbFunction(self,neighbourhood, Property):\n",
    "        # Return the result of evaluating a Normal distribution of:\n",
    "        #   mean equal to the mean of the property for this type of fruit\n",
    "        #   std  equal to the std  of the property for this type of fruit\n",
    "        return lambda x: norm.pdf( x, self.cmean[neighbourhood][Property], self.cstdv[neighbourhood][Property] )\n",
    "        \n",
    "    def __init__(self, training_set):\n",
    "        self.training_set = training_set\n",
    " \n",
    "        self.neighbourhoods = {}\n",
    "        for apartment in self.training_set:\n",
    "            if apartment.getNeighbour() in self.neighbourhoods.keys():\n",
    "                self.neighbourhoods[apartment.getNeighbour()] += 1\n",
    "            else: self.neighbourhoods[apartment.getNeighbour()] = 1\n",
    " \n",
    "        self.probl = {}\n",
    "        self.N = len(self.training_set[0].getFeaturesDict())\n",
    "        self.properties = list(self.training_set[0].getFeaturesDict().keys())\n",
    "        self.cmean = {}\n",
    "        self.cstdv = {}\n",
    "        self.prob = {}\n",
    "        \n",
    "        for neighbourhood in self.neighbourhoods.keys():\n",
    "            # The amount of fruits of each type that I have in my \"training\" dataset\n",
    "            self.probl[neighbourhood] = self.neighbourhoods[neighbourhood]/len(self.training_set)\n",
    "            \n",
    "            # I will store the mean, std, and normal probabiblity function,\n",
    "            # of each property for each type of fruit\n",
    "            self.cmean[neighbourhood] = {} #[0 for i in range(self.N)]\n",
    "            self.cstdv[neighbourhood] = {} #[0 for i in range(self.N)]\n",
    "            self.prob[neighbourhood] = {} #[0 for i in range(self.N)]\n",
    "            \n",
    "            # Then, for each property\n",
    "            for i, prop in enumerate(self.properties):\n",
    "                # Make a numpy array taking the list of the read properties\n",
    "                xi = np.array([float(e.getFeaturesDict()[prop]) for e in self.training_set if e.getNeighbour() == neighbourhood])\n",
    "                \n",
    "                # Fullfill the mean with the mean, the std with the std and the prob with the probability function\n",
    "                self.cmean[neighbourhood][prop] = xi.mean()\n",
    "                self.cstdv[neighbourhood][prop] = xi.std()\n",
    "                self.prob[neighbourhood][prop] = self._distributionProbFunction(neighbourhood,prop)\n",
    "\n",
    "    def predict(self, X):\n",
    "        p = {}\n",
    "        \n",
    "        # In the moment of predicting I have the probabilities of each feature of belonging to each class.\n",
    "        for neighbourhood in self.neighbourhoods.keys():\n",
    "            vectorToMultiply = [self._distributionProbFunction(neighbourhood,prop)(X[i]) \n",
    "                                    for i, prop in enumerate(self.properties)\n",
    "                                    if self._distributionProbFunction(neighbourhood,prop)(X[i]) != 0.0 ] \n",
    "            cp = np.prod( vectorToMultiply )\n",
    "            \n",
    "            p[neighbourhood] = self.probl[neighbourhood]*cp\n",
    "            \n",
    "        results = [(p[neighbourhood],neighbourhood) for neighbourhood in self.neighbourhoods.keys()]\n",
    "        results.sort()\n",
    "        return results[-1][1], results[-1][0]/sum([r[0] for r in results])\n",
    "\n",
    "    def plotDistributions(self):\n",
    "        for i, prop in enumerate(self.properties):\n",
    "            nprops=len(range(self.N))\n",
    "            rows = int(nprops/2)+int(nprops%2)\n",
    "            plt.subplot(rows,2,i+1)\n",
    "            for neighbourhood in list(self.neighbourhoods.keys()):\n",
    "                mean = self.cmean[neighbourhood][prop]\n",
    "                var = self.cstdv[neighbourhood][prop]\n",
    "                x= np.linspace(mean-4*var,mean+4*var,200)\n",
    "                xmin,xmax=plt.xlim()\n",
    "                plt.xlim(min(xmin,mean-3*var),max(xmax,mean+3*var))\n",
    "                plt.title(self.properties[i])\n",
    "                \n",
    "                self.prob[neighbourhood][prop] = self._distributionProbFunction(neighbourhood,prop)\n",
    "\n",
    "                plt.plot(x,self.prob[neighbourhood][prop](x), label = neighbourhood)\n",
    "                leg = plt.legend(loc=\"upper left\")\n",
    "                leg.get_frame().set_alpha(0.7)\n",
    "        plt.show()\n",
    "        \n",
    "    def __str__(self):\n",
    "        s = 'Gaussian Naive Bayes Model:\\n'\n",
    "        for l in self.neighbourhoods.keys():\n",
    "            s+= ' P(%s) = %.3f\\n'%(l, self.probl[l])\n",
    "            for i,prop in enumerate(self.properties):\n",
    "                s+= '  E(%s|%s) = %.3f\\n'%(self.properties[i], l, self.cmean[l][prop])\n",
    "                s+= '  VAR(%s|%s) = %.3f\\n'%(self.properties[i], l, self.cstdv[l][prop]**2)\n",
    "                s+= '\\n'\n",
    "        return s.strip()"
   ]
  },
  {
   "cell_type": "code",
   "execution_count": 6,
   "metadata": {},
   "outputs": [],
   "source": [
    "myNBC = NaiveBayesOfairnbns(training_set)"
   ]
  },
  {
   "cell_type": "code",
   "execution_count": 7,
   "metadata": {},
   "outputs": [
    {
     "name": "stderr",
     "output_type": "stream",
     "text": [
      "/home/arturo/.local/lib/python3.6/site-packages/scipy/stats/_distn_infrastructure.py:1740: RuntimeWarning: divide by zero encountered in double_scalars\n",
      "  x = np.asarray((x - loc)/scale, dtype=dtyp)\n"
     ]
    },
    {
     "data": {
      "text/plain": [
       "('Baró de Viver', nan)"
      ]
     },
     "execution_count": 7,
     "metadata": {},
     "output_type": "execute_result"
    }
   ],
   "source": [
    "myNBC.predict([400,40])"
   ]
  }
 ],
 "metadata": {
  "kernelspec": {
   "display_name": "Python 3",
   "language": "python",
   "name": "python3"
  },
  "language_info": {
   "codemirror_mode": {
    "name": "ipython",
    "version": 3
   },
   "file_extension": ".py",
   "mimetype": "text/x-python",
   "name": "python",
   "nbconvert_exporter": "python",
   "pygments_lexer": "ipython3",
   "version": "3.6.9"
  }
 },
 "nbformat": 4,
 "nbformat_minor": 2
}
