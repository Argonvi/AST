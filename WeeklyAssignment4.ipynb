{
 "cells": [
  {
   "cell_type": "markdown",
   "metadata": {},
   "source": [
    "# Weekly Assignment 4"
   ]
  },
  {
   "cell_type": "code",
   "execution_count": 1,
   "metadata": {},
   "outputs": [],
   "source": [
    "import matplotlib.pyplot as plt\n",
    "import numpy as np\n",
    "import math\n",
    "import csv\n",
    "from random import sample\n",
    "from scipy.stats import norm"
   ]
  },
  {
   "cell_type": "markdown",
   "metadata": {},
   "source": [
    "Create the class \"airbnb\" which will gather all the features as attributes and some methods to retrieve specific features, necessary for the process of training and prediction."
   ]
  },
  {
   "cell_type": "code",
   "execution_count": 2,
   "metadata": {},
   "outputs": [],
   "source": [
    "class airbnb( object ):\n",
    "    \n",
    "    def __init__(self, latitude, longitude, neighbourhood_group, price, availability, room_type, minimum_nights):\n",
    "        self.latitude=latitude\n",
    "        self.longitude=longitude\n",
    "        self.neighbourhood=neighbourhood_group\n",
    "        self.price=price\n",
    "        self.availability=availability\n",
    "        self.room_type=room_type\n",
    "        self.minimum_nights=minimum_nights\n",
    "    \n",
    "    def getFeaturesDict(self): return {\"latitude\": self.latitude, \"longitud\": self.longitude}\n",
    "    def getFeaturesTuple(self): return (self.latitude,self.longitude)\n",
    "    def getFeatureskmeans(self): return (self.price, self.availability, self.minimum_nights, self.room_type, self.neighbourhood)\n",
    "    \n",
    "    def getNeighbour(self): return self.neighbourhood"
   ]
  },
  {
   "cell_type": "markdown",
   "metadata": {},
   "source": [
    "Loading data from the file, converting rows into airbnb objects and gathering them into a list (myairbnbs)."
   ]
  },
  {
   "cell_type": "code",
   "execution_count": 3,
   "metadata": {},
   "outputs": [],
   "source": [
    "myairbnbs = []\n",
    "with open(\"listings.csv\") as data:\n",
    "    data = csv.reader(data)\n",
    "    next(data)\n",
    "    for line in data:\n",
    "        apartment = airbnb(float(line[6]),float(line[7]),line[4],float(line[9]),int(line[-1]),line[8],int(line[10]))\n",
    "        myairbnbs.append(apartment)"
   ]
  },
  {
   "cell_type": "markdown",
   "metadata": {},
   "source": [
    "# Classification with Naive Bayes\n",
    "\n",
    "First we sample 2000 apartments randomly from the whole dataset. We divide these into a test set and a training set."
   ]
  },
  {
   "cell_type": "code",
   "execution_count": 4,
   "metadata": {},
   "outputs": [],
   "source": [
    "sampling = sample(myairbnbs, k = 2000)\n",
    "test_set = sampling[:1000]\n",
    "training_set = sampling[1000:]"
   ]
  },
  {
   "cell_type": "markdown",
   "metadata": {},
   "source": [
    "The classifier class is the same as the one we saw in lesson 7, I just changed some variable names to make it more readable and changed the properties (or features) taken into account. In this case, the classifier takes latitude and longitud as features and neighbour group as the tag."
   ]
  },
  {
   "cell_type": "code",
   "execution_count": 5,
   "metadata": {},
   "outputs": [],
   "source": [
    "class NaiveBayesOfairnbns( object ):\n",
    " \n",
    "    def _distributionProbFunction(self,neighbourhood, Property):\n",
    "        # Return the result of evaluating a Normal distribution of:\n",
    "        #   mean equal to the mean of the property for this neighbourhood group\n",
    "        #   std  equal to the std  of the property for this neighbourhood group\n",
    "        return lambda x: norm.pdf( x, self.cmean[neighbourhood][Property], self.cstdv[neighbourhood][Property] )\n",
    "        \n",
    "    def __init__(self, training_set):\n",
    "        self.training_set = training_set\n",
    " \n",
    "        self.neighbourhoods = {}\n",
    "        for apartment in self.training_set:\n",
    "            if apartment.getNeighbour() in self.neighbourhoods.keys():\n",
    "                self.neighbourhoods[apartment.getNeighbour()] += 1\n",
    "            else: self.neighbourhoods[apartment.getNeighbour()] = 1\n",
    " \n",
    "        self.probl = {}\n",
    "        self.N = len(self.training_set[0].getFeaturesDict())\n",
    "        self.properties = list(self.training_set[0].getFeaturesDict().keys())\n",
    "        self.cmean = {}\n",
    "        self.cstdv = {}\n",
    "        self.prob = {}\n",
    "        \n",
    "        for neighbourhood in self.neighbourhoods.keys():\n",
    "            # The amount of fruits of each type that I have in my \"training\" dataset\n",
    "            self.probl[neighbourhood] = self.neighbourhoods[neighbourhood]/len(self.training_set)\n",
    "            \n",
    "            # I will store the mean, std, and normal probabiblity function,\n",
    "            # of each property for each type of fruit\n",
    "            self.cmean[neighbourhood] = {} #[0 for i in range(self.N)]\n",
    "            self.cstdv[neighbourhood] = {} #[0 for i in range(self.N)]\n",
    "            self.prob[neighbourhood] = {} #[0 for i in range(self.N)]\n",
    "            \n",
    "            # Then, for each property\n",
    "            for i, prop in enumerate(self.properties):\n",
    "                # Make a numpy array taking the list of the read properties\n",
    "                xi = np.array([float(e.getFeaturesDict()[prop]) for e in self.training_set if e.getNeighbour() == neighbourhood])\n",
    "                \n",
    "                # Fullfill the mean with the mean, the std with the std and the prob with the probability function\n",
    "                self.cmean[neighbourhood][prop] = xi.mean()\n",
    "                self.cstdv[neighbourhood][prop] = xi.std()\n",
    "                self.prob[neighbourhood][prop] = self._distributionProbFunction(neighbourhood,prop)\n",
    "\n",
    "    def predict(self, X):\n",
    "        p = {}\n",
    "        \n",
    "        # In the moment of predicting I have the probabilities of each feature of belonging to each class.\n",
    "        for neighbourhood in self.neighbourhoods.keys():\n",
    "            vectorToMultiply = [self._distributionProbFunction(neighbourhood,prop)(X[i]) \n",
    "                                    for i, prop in enumerate(self.properties)\n",
    "                                    if self._distributionProbFunction(neighbourhood,prop)(X[i]) != 0.0 ] \n",
    "            cp = np.prod( vectorToMultiply )\n",
    "            \n",
    "            p[neighbourhood] = self.probl[neighbourhood]*cp\n",
    "            \n",
    "        results = [(p[neighbourhood],neighbourhood) for neighbourhood in self.neighbourhoods.keys()]\n",
    "        results.sort()\n",
    "        return results[-1][1], results[-1][0]/sum([r[0] for r in results])\n",
    "\n",
    "    def plotDistributions(self):\n",
    "        for i, prop in enumerate(self.properties):\n",
    "            nprops=len(range(self.N))\n",
    "            rows = int(nprops/2)+int(nprops%2)\n",
    "            plt.subplot(rows,2,i+1)\n",
    "            for neighbourhood in list(self.neighbourhoods.keys()):\n",
    "                mean = self.cmean[neighbourhood][prop]\n",
    "                var = self.cstdv[neighbourhood][prop]\n",
    "                x= np.linspace(mean-4*var,mean+4*var,200)\n",
    "                xmin,xmax=plt.xlim()\n",
    "                plt.xlim(min(xmin,mean-3*var),max(xmax,mean+3*var))\n",
    "                plt.title(self.properties[i])\n",
    "                \n",
    "                self.prob[neighbourhood][prop] = self._distributionProbFunction(neighbourhood,prop)\n",
    "\n",
    "                plt.plot(x,self.prob[neighbourhood][prop](x), label = neighbourhood)\n",
    "                leg = plt.legend(loc=\"upper left\")\n",
    "                leg.get_frame().set_alpha(0.7)\n",
    "        plt.show()\n",
    "        \n",
    "    def __str__(self):\n",
    "        s = 'Gaussian Naive Bayes Model:\\n'\n",
    "        for l in self.neighbourhoods.keys():\n",
    "            s+= ' P(%s) = %.3f\\n'%(l, self.probl[l])\n",
    "            for i,prop in enumerate(self.properties):\n",
    "                s+= '  E(%s|%s) = %.3f\\n'%(self.properties[i], l, self.cmean[l][prop])\n",
    "                s+= '  VAR(%s|%s) = %.3f\\n'%(self.properties[i], l, self.cstdv[l][prop]**2)\n",
    "                s+= '\\n'\n",
    "        return s.strip()"
   ]
  },
  {
   "cell_type": "markdown",
   "metadata": {},
   "source": [
    "Finally, we train the model with the training samples."
   ]
  },
  {
   "cell_type": "code",
   "execution_count": 6,
   "metadata": {},
   "outputs": [],
   "source": [
    "myNBC = NaiveBayesOfairnbns(training_set)"
   ]
  },
  {
   "cell_type": "markdown",
   "metadata": {},
   "source": [
    "This last chunk of code is for the assessment of the accuracy of the classifier, that is, the percetange of correct predictions over the total number of predictions."
   ]
  },
  {
   "cell_type": "code",
   "execution_count": 7,
   "metadata": {},
   "outputs": [
    {
     "name": "stdout",
     "output_type": "stream",
     "text": [
      "Accuracy = 0.865\n"
     ]
    }
   ],
   "source": [
    "correct = 0\n",
    "for elem in test_set:\n",
    "    pred = myNBC.predict(elem.getFeaturesTuple())\n",
    "    if pred[0] == elem.getNeighbour():\n",
    "        correct += 1\n",
    "acc = correct/len(test_set)\n",
    "print(\"Accuracy = %s\"%(acc))"
   ]
  },
  {
   "cell_type": "markdown",
   "metadata": {},
   "source": [
    "# Clusterization with K-means"
   ]
  },
  {
   "cell_type": "code",
   "execution_count": 4,
   "metadata": {},
   "outputs": [],
   "source": [
    "def vector_euclidian_distance(feat_one, feat_two):\n",
    "    squared_distance = 0\n",
    "    #Assuming correct input to the function where the lengths of two features are the same\n",
    "    for i in range(len(feat_one)):\n",
    "            squared_distance += (feat_one[i] - feat_two[i])**2\n",
    "    ed = math.sqrt(squared_distance)\n",
    "    return ed\n",
    "\n",
    "class K_Means:\n",
    "\n",
    "    def __init__(self, k =3, tolerance = 0.0001, max_iterations = 500):\n",
    "        self.k = k\n",
    "        self.tolerance = tolerance\n",
    "        self.max_iterations = max_iterations\n",
    "    \n",
    "\n",
    "    def fit(self, data):\n",
    "        #initialize the centroids, the first 'k' elements in the dataset will be our initial centroids\n",
    "        self.centroids = [None for _ in range(self.k)]\n",
    "        for i in range(self.k):\n",
    "            self.centroids[i] = data[i]\n",
    "            \n",
    "        for i in range(self.max_iterations):\n",
    "            self.classes = {c:[] for c in range(self.k)}\n",
    "            for i in range(self.k):\n",
    "                self.classes[i] = []\n",
    "                #find the distance between the point and cluster; choose the nearest centroid\n",
    "                for features in data:\n",
    "                    distances = [vector_euclidian_distance(features, self.centroids[centroid]) for centroid in range(len(self.centroids))]\n",
    "                    classification = distances.index(min(distances))\n",
    "                    self.classes[classification].append(features) #add the point to the list of the nearest centroid\n",
    "\n",
    "\n",
    "            #average the cluster datapoints to re-calculate the centroids\n",
    "            for classification in self.classes:\n",
    "                self.centroids[classification] = np.average(self.classes[classification], axis = 0)"
   ]
  },
  {
   "cell_type": "markdown",
   "metadata": {},
   "source": [
    "We extract the relevant features from the dataset and modify room_type to be a discrete numerical variable"
   ]
  },
  {
   "cell_type": "code",
   "execution_count": 5,
   "metadata": {},
   "outputs": [],
   "source": [
    "data = [airbnb.getFeatureskmeans() for airbnb in myairbnbs]\n",
    "\n",
    "room_type_list = [apartment[3] for apartment in data]\n",
    "room_type_set = list(set(room_type_list))\n",
    "numerical_room_types = [room_type_set.index(x) for x in room_type_list]\n",
    "\n",
    "neigh_list = [apartment[4] for apartment in data]\n",
    "neigh_set = list(set(neigh_list))\n",
    "numerical_neigh = [neigh_set.index(x) for x in neigh_list]\n",
    "\n",
    "price = [apartment[0] for apartment in data]\n",
    "avaliability = [apartment[1] for apartment in data]\n",
    "minimum_nights = [apartment[2] for apartment in data]\n",
    "\n",
    "\n",
    "data = list(zip(price, numerical_room_types))\n"
   ]
  },
  {
   "cell_type": "markdown",
   "metadata": {},
   "source": [
    "Fit the clustering to the selected data to 3 groups."
   ]
  },
  {
   "cell_type": "code",
   "execution_count": 13,
   "metadata": {},
   "outputs": [
    {
     "name": "stdout",
     "output_type": "stream",
     "text": [
      "Centroid: [852.73921971   0.86652977]\n",
      "Centroid: [82.55088038  1.51369759]\n",
      "Centroid: [5.81522500e+03 7.58333333e-01]\n",
      "['Hotel room', 'Entire home/apt', 'Private room', 'Shared room']\n"
     ]
    }
   ],
   "source": [
    "km = K_Means(3)\n",
    "km.fit(data)\n",
    "\n",
    "for centroid in km.centroids:\n",
    "    print (\"Centroid:\", centroid)\n",
    "    \n",
    "print(list(room_type_set))"
   ]
  },
  {
   "cell_type": "markdown",
   "metadata": {},
   "source": [
    "Plot the results"
   ]
  },
  {
   "cell_type": "code",
   "execution_count": 6,
   "metadata": {},
   "outputs": [],
   "source": [
    "colors = 10*[\"r\", \"g\", \"c\", \"b\", \"k\", \"m\", \"y\", \"lime\", \"pink\", \"gray\"]\n",
    "color_gradient = [\"lavender\",\"powderblue\",\"lightsteelblue\",\"cadetblue\",\"darkcyan\"]"
   ]
  },
  {
   "cell_type": "code",
   "execution_count": 7,
   "metadata": {},
   "outputs": [],
   "source": [
    "color_n = [colors[i] for i in numerical_neigh] #set a color for each neighbour group"
   ]
  },
  {
   "cell_type": "code",
   "execution_count": 8,
   "metadata": {},
   "outputs": [],
   "source": [
    "color_a = [] #set a color for each range of availability\n",
    "for aptment in avaliability:\n",
    "    if aptment <= 30:\n",
    "        color_a.append(color_gradient[0])\n",
    "    elif aptment > 30 and aptment <= 60:\n",
    "        color_a.append(color_gradient[1])\n",
    "    elif aptment > 60 and aptment <= 120:\n",
    "        color_a.append(color_gradient[2])\n",
    "    elif aptment > 120 and aptment <= 240:\n",
    "        color_a.append(color_gradient[3])\n",
    "    elif aptment > 240:\n",
    "        color_a.append(color_gradient[4])"
   ]
  },
  {
   "cell_type": "code",
   "execution_count": 9,
   "metadata": {},
   "outputs": [],
   "source": [
    "color_m = []\n",
    "for aptment in minimum_nights:\n",
    "    if aptment <= 1:\n",
    "        color_m.append(color_gradient[0])\n",
    "    elif aptment > 1 and aptment <= 5:\n",
    "        color_m.append(color_gradient[1])\n",
    "    elif aptment > 5 and aptment <= 15:\n",
    "        color_m.append(color_gradient[2])\n",
    "    elif aptment > 15 and aptment <= 30:\n",
    "        color_m.append(color_gradient[3])\n",
    "    else:\n",
    "        color_m.append(color_gradient[4])"
   ]
  },
  {
   "cell_type": "markdown",
   "metadata": {},
   "source": [
    "Colored according to cluster group. We see that in all room types there are cheap (green), middle priced (red) and expensive (cyan) records. We only see a difference in that the hotel room type looks like it is slightly more expensive."
   ]
  },
  {
   "cell_type": "code",
   "execution_count": 10,
   "metadata": {},
   "outputs": [
    {
     "data": {
      "image/png": "[encoded data removed]",
      "text/plain": [
       "<Figure size 432x288 with 1 Axes>"
      ]
     },
     "metadata": {},
     "output_type": "display_data"
    }
   ],
   "source": [
    "for classification in km.classes:\n",
    "    color = colors[classification]\n",
    "    for features in km.classes[classification]:\n",
    "        plt.scatter(features[0], features[1], color = color,s = 30)"
   ]
  },
  {
   "cell_type": "markdown",
   "metadata": {},
   "source": [
    "Colored according to minimum nights, availability and neighbourhood group"
   ]
  },
  {
   "cell_type": "code",
   "execution_count": 10,
   "metadata": {},
   "outputs": [
    {
     "data": {
      "image/png": "[encoded data removed]",
      "text/plain": [
       "<Figure size 432x288 with 1 Axes>"
      ]
     },
     "metadata": {},
     "output_type": "display_data"
    }
   ],
   "source": [
    "for i, datapoint in enumerate(data):\n",
    "    plt.scatter(datapoint[0], datapoint[1], color = color_m[i], s = 30)"
   ]
  },
  {
   "cell_type": "code",
   "execution_count": 11,
   "metadata": {},
   "outputs": [
    {
     "data": {
      "image/png": "[encoded data removed]",
      "text/plain": [
       "<Figure size 432x288 with 1 Axes>"
      ]
     },
     "metadata": {},
     "output_type": "display_data"
    }
   ],
   "source": [
    "for i, datapoint in enumerate(data):\n",
    "    plt.scatter(datapoint[0], datapoint[1], color = color_a[i], s = 30)"
   ]
  },
  {
   "cell_type": "code",
   "execution_count": 11,
   "metadata": {},
   "outputs": [
    {
     "data": {
      "image/png": "[encoded data removed]",
      "text/plain": [
       "<Figure size 432x288 with 1 Axes>"
      ]
     },
     "metadata": {},
     "output_type": "display_data"
    }
   ],
   "source": [
    "for i, datapoint in enumerate(data):\n",
    "    plt.scatter(datapoint[0], datapoint[1], color = color_n[i], s = 30)"
   ]
  },
  {
   "cell_type": "markdown",
   "metadata": {},
   "source": [
    "We do not see any special distribution of the datapoints in the groups when observing the points colored by minimum nights, availability or neighbourhood group."
   ]
  }
 ],
 "metadata": {
  "kernelspec": {
   "display_name": "Python 3",
   "language": "python",
   "name": "python3"
  },
  "language_info": {
   "codemirror_mode": {
    "name": "ipython",
    "version": 3
   },
   "file_extension": ".py",
   "mimetype": "text/x-python",
   "name": "python",
   "nbconvert_exporter": "python",
   "pygments_lexer": "ipython3",
   "version": "3.6.9"
  }
 },
 "nbformat": 4,
 "nbformat_minor": 2
}
